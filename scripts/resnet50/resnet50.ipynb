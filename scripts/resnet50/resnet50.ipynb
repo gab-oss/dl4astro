{
  "cells": [
    {
      "cell_type": "code",
      "execution_count": null,
      "metadata": {
        "id": "ZtXdbZkcksl6"
      },
      "outputs": [],
      "source": [
        "import numpy as np\n",
        "import tensorflow as tf\n",
        "from tensorflow.keras import datasets, layers, models\n",
        "import matplotlib.pyplot as plt\n",
        "import math\n",
        "# from bmc import BMC\n",
        "from sklearn.metrics import roc_auc_score\n",
        "from tensorflow.image import ResizeMethod\n",
        "from keras.layers import Dense, Dropout, Flatten, Conv2D, MaxPool2D,GlobalAveragePooling2D\n",
        "from keras.models import Sequential,Model,load_model"
      ]
    },
    {
      "cell_type": "code",
      "execution_count": null,
      "metadata": {
        "id": "We6kkr93SN9R"
      },
      "outputs": [],
      "source": [
        "plt.rcParams.update({'font.size': 14})\n",
        "\n",
        "X_train_file = \"training_images.npy\"\n",
        "y_train_file = \"training_labels.npy\"\n",
        "\n",
        "X_test_file = \"test_images.npy\"\n",
        "y_test_file = \"test_labels.npy\"\n",
        "\n",
        "def renormalize(array):\n",
        "    return (array - array.min()) / (array.max() - array.min())\n",
        "\n",
        "def cut_channels(X):\n",
        "# \"The SDSS uses the green wavelength picture for the blue band, the red wavelength picture for the green band \n",
        "# and the infrared wavelength picture for the red band.\"\n",
        "    X = X[:, 1:-1, :, :] #BGR\n",
        "    return X[:, ::-1, :, :] #RGB\n",
        "\n",
        "def center_with_ref_to_imgnet(X):\n",
        "    # source: https://github.com/keras-team/keras-applications/blob/06fbeb0f16e1304f239b2296578d1c50b15a983a/keras_applications/imagenet_utils.py#L18\n",
        "    bgr_mean_vals = [103.939, 116.779, 123.68]\n",
        "\n",
        "    mean = np.mean(bgr_mean_vals)\n",
        "    X[..., 0:] -= mean\n",
        "    return X\n",
        "\n",
        "def preprocess_divided(X):\n",
        "    u, gri, z = X[:, :, :, :1], X[:, :, :, 1:-1], X[:, :, :, -1:]\n",
        "    \n",
        "    gri = gri[:, :, :, ::-1]\n",
        "\n",
        "    gri = tf.keras.applications.resnet50.preprocess_input(\n",
        "      gri, data_format='channels_last'\n",
        "    )\n",
        "\n",
        "    u, z = center_with_ref_to_imgnet(u), center_with_ref_to_imgnet(z)\n",
        "    return np.concatenate((u, gri, z), axis=-1)\n",
        "\n",
        "\n",
        "def mean_weights(kernel):\n",
        "    mean_vector = np.mean(kernel, axis=-2).reshape(kernel[:,:,-1:,:].shape)\n",
        "    return(mean_vector)\n",
        "\n",
        "\n",
        "# Loop through layers of both original model \n",
        "# and custom model and copy over weights \n",
        "# layer_modify refers to first convolutional layer\n",
        "def copy_weights_tl(model_orig, custom_model, layer_modify):\n",
        "  layer_to_modify = [layer_modify]\n",
        "\n",
        "  conf = custom_model.get_config()\n",
        "  layer_names = [conf['layers'][x]['name'] for x in range(len(conf['layers']))]\n",
        "\n",
        "  for layer in model_orig.layers:\n",
        "    if layer.name in layer_names:\n",
        "      if layer.get_weights() != []:\n",
        "        target_layer = custom_model.get_layer(layer.name)\n",
        "        if layer.name in layer_to_modify:    \n",
        "          kernel = layer.get_weights()[0]\n",
        "          biases  = layer.get_weights()[1]\n",
        "\n",
        "          mean_weights_vector = mean_weights(kernel)\n",
        "\n",
        "          extended_kernel = np.concatenate((mean_weights_vector, kernel, mean_weights_vector),\n",
        "                                                  axis=-2)\n",
        "          print(\"kernel\")\n",
        "          print(kernel.shape)\n",
        "          print(\"mean vector\")\n",
        "          print(mean_weights_vector.shape)\n",
        "          print(\"extended kernel\")\n",
        "          print(extended_kernel.shape)\n",
        "                                                  \n",
        "          target_layer.set_weights([extended_kernel, biases])\n",
        "          target_layer.trainable = False\n",
        "\n",
        "        else:\n",
        "          target_layer.set_weights(layer.get_weights())\n",
        "          target_layer.trainable = False\n",
        "\n",
        "  return custom_model\n"
      ]
    },
    {
      "cell_type": "code",
      "execution_count": null,
      "metadata": {
        "id": "b-AdZkVFTiIY"
      },
      "outputs": [],
      "source": [
        "X_train = np.load(X_train_file)\n",
        "X_train = np.transpose(X_train, (0, 2, 3, 1))\n",
        "\n",
        "y_train = np.load(y_train_file).astype('float32')\n",
        "y_train = renormalize(y_train).astype(np.int32)\n",
        "\n",
        "rng_state = np.random.get_state()\n",
        "np.random.shuffle(X_train)\n",
        "np.random.set_state(rng_state)\n",
        "np.random.shuffle(y_train)"
      ]
    },
    {
      "cell_type": "code",
      "execution_count": null,
      "metadata": {
        "id": "vnDUr25pUQT0"
      },
      "outputs": [],
      "source": [
        "first_for_validation = math.floor(len(X_train) * 0.8)\n",
        "\n",
        "X_train_t = X_train[:first_for_validation]\n",
        "X_train_v = X_train[first_for_validation:]\n",
        "\n",
        "# X_train_t = tf.keras.applications.resnet50.preprocess_input(\n",
        "#     X_train_t, data_format='channels_last'\n",
        "# )\n",
        "\n",
        "# X_train_v = tf.keras.applications.resnet50.preprocess_input(\n",
        "#     X_train_v, data_format='channels_last'\n",
        "# )\n",
        "\n",
        "X_train_t = preprocess_divided(X_train_t)\n",
        "X_train_v = preprocess_divided(X_train_v)\n",
        "\n",
        "# X_train_t = tf.image.resize(X_train_t, (224, 224))\n",
        "# X_train_v = tf.image.resize(X_train_v, (224, 224))\n",
        "\n",
        "y_train_t = y_train[:first_for_validation]\n",
        "y_train_v = y_train[first_for_validation:]\n",
        "\n",
        "y_train_t = tf.one_hot(y_train_t, depth=2)\n",
        "y_train_v = tf.one_hot(y_train_v, depth=2)"
      ]
    },
    {
      "cell_type": "code",
      "execution_count": null,
      "metadata": {
        "id": "I4grL3ZvXQpw",
        "colab": {
          "base_uri": "https://localhost:8080/"
        },
        "outputId": "970aa114-4cf4-45f8-e1bb-52716128f835"
      },
      "outputs": [
        {
          "output_type": "stream",
          "name": "stdout",
          "text": [
            "kernel\n",
            "(7, 7, 3, 64)\n",
            "mean vector\n",
            "(7, 7, 1, 64)\n",
            "extended kernel\n",
            "(7, 7, 5, 64)\n"
          ]
        }
      ],
      "source": [
        "img_height,img_width = 48,48\n",
        "channels = 5\n",
        "num_classes = 2\n",
        "\n",
        "base_model = tf.keras.applications.resnet50.ResNet50(weights='imagenet', include_top=False)\n",
        "\n",
        "# Get Resnet config in dictionary format\n",
        "config = base_model.get_config()\n",
        "\n",
        "# Change input shape to new dimensions\n",
        "config[\"layers\"][0][\"config\"][\"batch_input_shape\"] = (None, img_height, img_width, channels)\n",
        "\n",
        "# Create new model with config\n",
        "resnet50_5 = tf.keras.models.Model.from_config(config)\n",
        "resnet50_5 = copy_weights_tl(base_model, resnet50_5, 'conv1_conv')\n",
        "\n",
        "x = resnet50_5.output\n",
        "x = GlobalAveragePooling2D()(x)\n",
        "x = Dropout(0.5)(x)\n",
        "predictions = Dense(num_classes, activation= 'softmax')(x)\n",
        "model = Model(inputs = resnet50_5.input, outputs = predictions)\n",
        "\n",
        "adam = tf.keras.optimizers.Adam(learning_rate=2e-5)\n",
        "model.compile(optimizer = adam, loss='categorical_crossentropy', metrics=[tf.keras.metrics.AUC()])"
      ]
    },
    {
      "cell_type": "code",
      "execution_count": null,
      "metadata": {
        "colab": {
          "base_uri": "https://localhost:8080/"
        },
        "id": "ncEQKd_PXxoq",
        "outputId": "1bccc985-2450-43e8-dc4a-c9e20bc6b126"
      },
      "outputs": [
        {
          "output_type": "stream",
          "name": "stdout",
          "text": [
            "Epoch 1/20\n",
            "92/92 [==============================] - 34s 375ms/step - loss: 0.5154 - auc_1: 0.8268 - val_loss: 0.4631 - val_auc_1: 0.8748\n",
            "Epoch 2/20\n",
            "92/92 [==============================] - 32s 347ms/step - loss: 0.5178 - auc_1: 0.8251 - val_loss: 0.4568 - val_auc_1: 0.8769\n",
            "Epoch 3/20\n",
            "92/92 [==============================] - 32s 349ms/step - loss: 0.5052 - auc_1: 0.8341 - val_loss: 0.4511 - val_auc_1: 0.8783\n",
            "Epoch 4/20\n",
            "92/92 [==============================] - 32s 348ms/step - loss: 0.5016 - auc_1: 0.8352 - val_loss: 0.4456 - val_auc_1: 0.8814\n",
            "Epoch 5/20\n",
            "92/92 [==============================] - 32s 347ms/step - loss: 0.4920 - auc_1: 0.8452 - val_loss: 0.4404 - val_auc_1: 0.8845\n",
            "Epoch 6/20\n",
            "92/92 [==============================] - 32s 348ms/step - loss: 0.4923 - auc_1: 0.8440 - val_loss: 0.4351 - val_auc_1: 0.8860\n",
            "Epoch 7/20\n",
            "92/92 [==============================] - 34s 373ms/step - loss: 0.4812 - auc_1: 0.8540 - val_loss: 0.4304 - val_auc_1: 0.8880\n",
            "Epoch 8/20\n",
            "92/92 [==============================] - 32s 349ms/step - loss: 0.4716 - auc_1: 0.8595 - val_loss: 0.4262 - val_auc_1: 0.8890\n",
            "Epoch 9/20\n",
            "92/92 [==============================] - 32s 349ms/step - loss: 0.4635 - auc_1: 0.8642 - val_loss: 0.4220 - val_auc_1: 0.8925\n",
            "Epoch 10/20\n",
            "92/92 [==============================] - 32s 348ms/step - loss: 0.4608 - auc_1: 0.8673 - val_loss: 0.4180 - val_auc_1: 0.8927\n",
            "Epoch 11/20\n",
            "92/92 [==============================] - 32s 347ms/step - loss: 0.4590 - auc_1: 0.8679 - val_loss: 0.4140 - val_auc_1: 0.8936\n",
            "Epoch 12/20\n",
            "92/92 [==============================] - 32s 346ms/step - loss: 0.4588 - auc_1: 0.8657 - val_loss: 0.4105 - val_auc_1: 0.8962\n",
            "Epoch 13/20\n",
            "92/92 [==============================] - 32s 347ms/step - loss: 0.4475 - auc_1: 0.8744 - val_loss: 0.4073 - val_auc_1: 0.8965\n",
            "Epoch 14/20\n",
            "92/92 [==============================] - 34s 374ms/step - loss: 0.4449 - auc_1: 0.8752 - val_loss: 0.4041 - val_auc_1: 0.8984\n",
            "Epoch 15/20\n",
            "92/92 [==============================] - 32s 347ms/step - loss: 0.4440 - auc_1: 0.8753 - val_loss: 0.4008 - val_auc_1: 0.8982\n",
            "Epoch 16/20\n",
            "92/92 [==============================] - 32s 348ms/step - loss: 0.4355 - auc_1: 0.8806 - val_loss: 0.3979 - val_auc_1: 0.8997\n",
            "Epoch 17/20\n",
            "92/92 [==============================] - 32s 347ms/step - loss: 0.4363 - auc_1: 0.8780 - val_loss: 0.3952 - val_auc_1: 0.9002\n",
            "Epoch 18/20\n",
            "92/92 [==============================] - 32s 347ms/step - loss: 0.4318 - auc_1: 0.8818 - val_loss: 0.3926 - val_auc_1: 0.9021\n",
            "Epoch 19/20\n",
            "92/92 [==============================] - 32s 348ms/step - loss: 0.4283 - auc_1: 0.8832 - val_loss: 0.3901 - val_auc_1: 0.9027\n",
            "Epoch 20/20\n",
            "92/92 [==============================] - 32s 347ms/step - loss: 0.4229 - auc_1: 0.8872 - val_loss: 0.3876 - val_auc_1: 0.9040\n",
            "INFO:tensorflow:Assets written to: ./drive/MyDrive/model_48px_no_resizing/assets\n"
          ]
        }
      ],
      "source": [
        "history = model.fit(x=X_train_t, y=y_train_t, validation_data=(X_train_v, y_train_v), shuffle=True, epochs = 20, batch_size = 32)\n",
        "model.save('./drive/MyDrive/model_48px_no_resizing/')"
      ]
    },
    {
      "cell_type": "code",
      "execution_count": null,
      "metadata": {
        "colab": {
          "base_uri": "https://localhost:8080/",
          "height": 293
        },
        "id": "ARs43GI9YAUx",
        "outputId": "49270777-c053-4b7a-9089-ace6721e3a54"
      },
      "outputs": [
        {
          "output_type": "display_data",
          "data": {
            "text/plain": [
              "<Figure size 432x288 with 1 Axes>"
            ],
            "image/png": "[encoded data removed]"
          },
          "metadata": {
            "needs_background": "light"
          }
        }
      ],
      "source": [
        "plt.plot(history.history['val_loss'], label = 'loss')\n",
        "plt.xlabel('Epoch')\n",
        "plt.ylabel('Loss')\n",
        "plt.ylim([0.0, 1])\n",
        "plt.legend(loc='lower right')\n",
        "plt.show()"
      ]
    },
    {
      "cell_type": "code",
      "execution_count": null,
      "metadata": {
        "colab": {
          "base_uri": "https://localhost:8080/",
          "height": 167
        },
        "id": "K7xLAgMYaWfv",
        "outputId": "459b437b-3d25-48c8-8bbe-d8397e82d656"
      },
      "outputs": [
        {
          "ename": "NameError",
          "evalue": "ignored",
          "output_type": "error",
          "traceback": [
            "\u001b[0;31m---------------------------------------------------------------------------\u001b[0m",
            "\u001b[0;31mNameError\u001b[0m                                 Traceback (most recent call last)",
            "\u001b[0;32m<ipython-input-2-7f539fdf9cbf>\u001b[0m in \u001b[0;36m<module>\u001b[0;34m()\u001b[0m\n\u001b[0;32m----> 1\u001b[0;31m \u001b[0mprint\u001b[0m\u001b[0;34m(\u001b[0m\u001b[0mhistory\u001b[0m\u001b[0;34m.\u001b[0m\u001b[0mhistory\u001b[0m\u001b[0;34m.\u001b[0m\u001b[0mkeys\u001b[0m\u001b[0;34m(\u001b[0m\u001b[0;34m)\u001b[0m\u001b[0;34m)\u001b[0m\u001b[0;34m\u001b[0m\u001b[0;34m\u001b[0m\u001b[0m\n\u001b[0m",
            "\u001b[0;31mNameError\u001b[0m: name 'history' is not defined"
          ]
        }
      ],
      "source": [
        "print(history.history.keys())"
      ]
    },
    {
      "cell_type": "code",
      "execution_count": null,
      "metadata": {
        "id": "oHLUfI84mGKU"
      },
      "outputs": [],
      "source": [
        "X_test = np.load(X_test_file)\n",
        "X_test = np.transpose(X_test, (0, 2, 3, 1))\n",
        "X_test = preprocess_divided(X_test)\n",
        "#X_test = tf.image.resize(X_test, (224, 224))\n",
        "\n",
        "y_test = np.load(y_test_file).astype('float32')\n",
        "y_test = renormalize(y_test).astype(np.int32)\n",
        "y_test = tf.one_hot(y_test, depth=2)"
      ]
    },
    {
      "cell_type": "code",
      "execution_count": null,
      "metadata": {
        "colab": {
          "base_uri": "https://localhost:8080/"
        },
        "id": "R94b0dTGm8Bt",
        "outputId": "9d49a265-4efa-4143-c772-e759569b09db"
      },
      "outputs": [
        {
          "output_type": "stream",
          "name": "stdout",
          "text": [
            "4/4 - 1s - loss: 0.4122 - auc_1: 0.8827 - 918ms/epoch - 229ms/step\n",
            "0.8826999664306641\n",
            "[[0.33659974 0.66340023]\n",
            " [0.72839797 0.27160203]\n",
            " [0.63270366 0.3672963 ]\n",
            " [0.12639755 0.8736025 ]\n",
            " [0.81432974 0.1856702 ]\n",
            " [0.8545465  0.14545345]\n",
            " [0.84028846 0.15971151]\n",
            " [0.80715746 0.19284254]\n",
            " [0.8547095  0.14529052]\n",
            " [0.8536574  0.14634262]\n",
            " [0.84786737 0.15213268]\n",
            " [0.81806684 0.18193313]\n",
            " [0.82596    0.17404003]\n",
            " [0.80774975 0.19225025]\n",
            " [0.8602569  0.13974307]\n",
            " [0.7667352  0.23326482]\n",
            " [0.8549428  0.14505723]\n",
            " [0.84747094 0.15252902]\n",
            " [0.85463285 0.14536712]\n",
            " [0.58158034 0.41841966]\n",
            " [0.7778866  0.22211333]\n",
            " [0.86228514 0.13771483]\n",
            " [0.7282818  0.27171823]\n",
            " [0.8599578  0.14004219]\n",
            " [0.24513902 0.75486094]\n",
            " [0.8409262  0.15907381]\n",
            " [0.8457805  0.15421955]\n",
            " [0.8316605  0.16833943]\n",
            " [0.8447747  0.15522525]\n",
            " [0.846237   0.15376298]\n",
            " [0.85483295 0.14516711]\n",
            " [0.17239569 0.8276043 ]\n",
            " [0.83132297 0.16867702]\n",
            " [0.27618933 0.7238107 ]\n",
            " [0.85007846 0.14992158]\n",
            " [0.8426243  0.15737575]\n",
            " [0.8596346  0.14036539]\n",
            " [0.23488767 0.7651124 ]\n",
            " [0.8710592  0.1289408 ]\n",
            " [0.82631737 0.17368262]\n",
            " [0.75884557 0.24115442]\n",
            " [0.85160834 0.1483916 ]\n",
            " [0.84325933 0.1567407 ]\n",
            " [0.3905414  0.6094585 ]\n",
            " [0.84510636 0.15489356]\n",
            " [0.8454837  0.15451631]\n",
            " [0.7953621  0.20463784]\n",
            " [0.8499671  0.15003283]\n",
            " [0.80120826 0.19879171]\n",
            " [0.21899107 0.78100896]\n",
            " [0.83763987 0.16236018]\n",
            " [0.8387339  0.16126613]\n",
            " [0.73484457 0.2651554 ]\n",
            " [0.8294813  0.17051877]\n",
            " [0.816066   0.18393394]\n",
            " [0.8475088  0.15249118]\n",
            " [0.8084956  0.19150442]\n",
            " [0.8284801  0.17151994]\n",
            " [0.8521443  0.14785573]\n",
            " [0.84058255 0.15941744]\n",
            " [0.8318526  0.16814737]\n",
            " [0.85243976 0.14756025]\n",
            " [0.8105711  0.18942899]\n",
            " [0.79904836 0.2009516 ]\n",
            " [0.8575256  0.1424744 ]\n",
            " [0.79793113 0.2020688 ]\n",
            " [0.5916803  0.40831974]\n",
            " [0.82992095 0.17007901]\n",
            " [0.71024686 0.28975308]\n",
            " [0.76734704 0.23265293]\n",
            " [0.20191324 0.7980867 ]\n",
            " [0.84520906 0.15479094]\n",
            " [0.83473146 0.16526856]\n",
            " [0.53418565 0.46581432]\n",
            " [0.8589088  0.1410912 ]\n",
            " [0.8281479  0.1718521 ]\n",
            " [0.8381177  0.16188222]\n",
            " [0.18917222 0.8108278 ]\n",
            " [0.8330063  0.16699368]\n",
            " [0.7535121  0.24648796]\n",
            " [0.7216496  0.27835035]\n",
            " [0.8503909  0.14960909]\n",
            " [0.48012063 0.5198794 ]\n",
            " [0.6925575  0.30744246]\n",
            " [0.83730006 0.1626999 ]\n",
            " [0.8162173  0.18378267]\n",
            " [0.86338925 0.13661072]\n",
            " [0.60059243 0.39940754]\n",
            " [0.85717845 0.1428216 ]\n",
            " [0.8212361  0.17876393]\n",
            " [0.7681288  0.23187119]\n",
            " [0.18772528 0.8122747 ]\n",
            " [0.8526489  0.14735107]\n",
            " [0.85352165 0.14647837]\n",
            " [0.8482931  0.15170687]\n",
            " [0.8473811  0.15261886]\n",
            " [0.8545525  0.14544743]\n",
            " [0.6969215  0.3030785 ]\n",
            " [0.8356327  0.16436733]\n",
            " [0.78730047 0.21269955]]\n"
          ]
        }
      ],
      "source": [
        "test_loss, test_auc = model.evaluate(X_test,  y_test, verbose=2)\n",
        "print(test_auc)\n",
        "\n",
        "pred = model.predict(X_test)\n",
        "print(pred)"
      ]
    }
  ],
  "metadata": {
    "colab": {
      "collapsed_sections": [],
      "provenance": []
    },
    "kernelspec": {
      "display_name": "Python 3",
      "name": "python3"
    },
    "language_info": {
      "name": "python"
    }
  },
  "nbformat": 4,
  "nbformat_minor": 0
}